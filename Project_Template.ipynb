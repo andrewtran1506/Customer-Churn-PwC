{
  "cells": [
    {
      "cell_type": "markdown",
      "metadata": {
        "id": "LwXKQQ8ygcwQ"
      },
      "source": [
        "![image.png](data:image/png;base64,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)\n",
        "\n",
        "# 📊 Telecom Customer Churn Analysis – PwC Consulting Case Study\n",
        "\n",
        "## **📌 Background**\n",
        "The telecom industry is highly competitive, and customers frequently switch providers for better pricing, improved service quality, or enhanced customer experience. The company is losing a significant percentage of customers every month, affecting revenue and profitability. The CEO wants to understand:\n",
        "\n",
        "- Who are the customers that are churning?\n",
        "- What factors contribute to churn the most?\n",
        "- How can the company proactively predict and prevent churn?\n",
        "\n",
        "PwC has tasked your team with conducting an exploratory data analysis (EDA) on customer demographics and behaviors, followed by building a churn prediction model to identify key risk factors leading to customer churn.\n",
        "\n",
        "---\n",
        "\n",
        "## **📈 Phase 1: Understanding the Customer Base**\n",
        "### **Objective:** Summarize key customer insights\n",
        "\n",
        "### **1. Churn Percentage**  \n",
        "- What percentage of customers are leaving?  \n",
        "\n",
        "### **2. Customer Segments**  \n",
        "- Analyze customer demographics (Age, Gender, Tenure).  \n",
        "\n",
        "### **3. Services Used**  \n",
        "- Do churned customers have **Internet, Phone, or TV services**?  \n",
        "\n",
        "### **4. Billing & Payment Methods**  \n",
        "- Do churned customers prefer **paperless billing, credit cards, or bank transfers**?  \n",
        "\n",
        "### **5. Contract Types**  \n",
        "- Are **monthly contract customers** churning more than **annual contract customers**?  \n",
        "\n",
        "---\n",
        "\n",
        "## **🤖 Phase 2: Predicting Customer Churn**\n",
        "### **Objective:** Build a churn prediction model to identify at-risk customers.\n",
        "\n",
        "### **1. Feature Selection**\n",
        "Identify key factors influencing churn, such as tenure, contract type, payment method, and monthly charges.\n",
        "\n",
        "### **2. Model Training**\n",
        "Train a classification model (Logistic Regression, Decision Tree, or XGBoost) to predict churn.\n",
        "\n",
        "### **3. Performance Evaluation**\n",
        "Assess model accuracy, precision, recall, F1-score, and AUC-ROC to measure effectiveness.\n",
        "\n",
        "### **4. Key Insights & Recommendations**\n",
        "Analyze feature importance, identify top churn drivers, and provide data-driven retention strategies.\n"
      ]
    },
    {
      "cell_type": "markdown",
      "metadata": {
        "id": "vGsc_UR8h59R"
      },
      "source": [
        "# 1. Import the data"
      ]
    },
    {
      "cell_type": "code",
      "execution_count": 5,
      "metadata": {
        "vscode": {
          "languageId": "markdown"
        }
      },
      "outputs": [],
      "source": [
        "import pandas as pd\n",
        "import numpy as np\n",
        "import seaborn as sns\n",
        "import matplotlib.pyplot as plt"
      ]
    },
    {
      "cell_type": "code",
      "execution_count": 7,
      "metadata": {
        "vscode": {
          "languageId": "markdown"
        }
      },
      "outputs": [
        {
          "name": "stdout",
          "output_type": "stream",
          "text": [
            "Collecting openpyxl\n",
            "  Downloading openpyxl-3.1.5-py2.py3-none-any.whl.metadata (2.5 kB)\n",
            "Collecting et-xmlfile (from openpyxl)\n",
            "  Downloading et_xmlfile-2.0.0-py3-none-any.whl.metadata (2.7 kB)\n",
            "Downloading openpyxl-3.1.5-py2.py3-none-any.whl (250 kB)\n",
            "   ---------------------------------------- 0.0/250.9 kB ? eta -:--:--\n",
            "   - -------------------------------------- 10.2/250.9 kB ? eta -:--:--\n",
            "   ----------- --------------------------- 71.7/250.9 kB 975.2 kB/s eta 0:00:01\n",
            "   ----------------------------- ---------- 184.3/250.9 kB 1.6 MB/s eta 0:00:01\n",
            "   ---------------------------------------- 250.9/250.9 kB 1.7 MB/s eta 0:00:00\n",
            "Downloading et_xmlfile-2.0.0-py3-none-any.whl (18 kB)\n",
            "Installing collected packages: et-xmlfile, openpyxl\n",
            "Successfully installed et-xmlfile-2.0.0 openpyxl-3.1.5\n"
          ]
        },
        {
          "name": "stderr",
          "output_type": "stream",
          "text": [
            "\n",
            "[notice] A new release of pip is available: 24.0 -> 25.0.1\n",
            "[notice] To update, run: python.exe -m pip install --upgrade pip\n"
          ]
        }
      ],
      "source": [
        "!pip install openpyxl"
      ]
    },
    {
      "cell_type": "code",
      "execution_count": 6,
      "metadata": {
        "vscode": {
          "languageId": "markdown"
        }
      },
      "outputs": [
        {
          "ename": "ImportError",
          "evalue": "Missing optional dependency 'openpyxl'.  Use pip or conda to install openpyxl.",
          "output_type": "error",
          "traceback": [
            "\u001b[31m---------------------------------------------------------------------------\u001b[39m",
            "\u001b[31mModuleNotFoundError\u001b[39m                       Traceback (most recent call last)",
            "\u001b[36mFile \u001b[39m\u001b[32mc:\\Users\\ADMIN\\AppData\\Local\\Programs\\Python\\Python312\\Lib\\site-packages\\pandas\\compat\\_optional.py:135\u001b[39m, in \u001b[36mimport_optional_dependency\u001b[39m\u001b[34m(name, extra, errors, min_version)\u001b[39m\n\u001b[32m    134\u001b[39m \u001b[38;5;28;01mtry\u001b[39;00m:\n\u001b[32m--> \u001b[39m\u001b[32m135\u001b[39m     module = \u001b[43mimportlib\u001b[49m\u001b[43m.\u001b[49m\u001b[43mimport_module\u001b[49m\u001b[43m(\u001b[49m\u001b[43mname\u001b[49m\u001b[43m)\u001b[49m\n\u001b[32m    136\u001b[39m \u001b[38;5;28;01mexcept\u001b[39;00m \u001b[38;5;167;01mImportError\u001b[39;00m:\n",
            "\u001b[36mFile \u001b[39m\u001b[32mc:\\Users\\ADMIN\\AppData\\Local\\Programs\\Python\\Python312\\Lib\\importlib\\__init__.py:90\u001b[39m, in \u001b[36mimport_module\u001b[39m\u001b[34m(name, package)\u001b[39m\n\u001b[32m     89\u001b[39m         level += \u001b[32m1\u001b[39m\n\u001b[32m---> \u001b[39m\u001b[32m90\u001b[39m \u001b[38;5;28;01mreturn\u001b[39;00m \u001b[43m_bootstrap\u001b[49m\u001b[43m.\u001b[49m\u001b[43m_gcd_import\u001b[49m\u001b[43m(\u001b[49m\u001b[43mname\u001b[49m\u001b[43m[\u001b[49m\u001b[43mlevel\u001b[49m\u001b[43m:\u001b[49m\u001b[43m]\u001b[49m\u001b[43m,\u001b[49m\u001b[43m \u001b[49m\u001b[43mpackage\u001b[49m\u001b[43m,\u001b[49m\u001b[43m \u001b[49m\u001b[43mlevel\u001b[49m\u001b[43m)\u001b[49m\n",
            "\u001b[36mFile \u001b[39m\u001b[32m<frozen importlib._bootstrap>:1387\u001b[39m, in \u001b[36m_gcd_import\u001b[39m\u001b[34m(name, package, level)\u001b[39m\n",
            "\u001b[36mFile \u001b[39m\u001b[32m<frozen importlib._bootstrap>:1360\u001b[39m, in \u001b[36m_find_and_load\u001b[39m\u001b[34m(name, import_)\u001b[39m\n",
            "\u001b[36mFile \u001b[39m\u001b[32m<frozen importlib._bootstrap>:1324\u001b[39m, in \u001b[36m_find_and_load_unlocked\u001b[39m\u001b[34m(name, import_)\u001b[39m\n",
            "\u001b[31mModuleNotFoundError\u001b[39m: No module named 'openpyxl'",
            "\nDuring handling of the above exception, another exception occurred:\n",
            "\u001b[31mImportError\u001b[39m                               Traceback (most recent call last)",
            "\u001b[36mCell\u001b[39m\u001b[36m \u001b[39m\u001b[32mIn[6]\u001b[39m\u001b[32m, line 1\u001b[39m\n\u001b[32m----> \u001b[39m\u001b[32m1\u001b[39m data = \u001b[43mpd\u001b[49m\u001b[43m.\u001b[49m\u001b[43mread_excel\u001b[49m\u001b[43m(\u001b[49m\u001b[33;43m'\u001b[39;49m\u001b[33;43m02 Churn-Dataset.xlsx\u001b[39;49m\u001b[33;43m'\u001b[39;49m\u001b[43m)\u001b[49m\n",
            "\u001b[36mFile \u001b[39m\u001b[32mc:\\Users\\ADMIN\\AppData\\Local\\Programs\\Python\\Python312\\Lib\\site-packages\\pandas\\io\\excel\\_base.py:495\u001b[39m, in \u001b[36mread_excel\u001b[39m\u001b[34m(io, sheet_name, header, names, index_col, usecols, dtype, engine, converters, true_values, false_values, skiprows, nrows, na_values, keep_default_na, na_filter, verbose, parse_dates, date_parser, date_format, thousands, decimal, comment, skipfooter, storage_options, dtype_backend, engine_kwargs)\u001b[39m\n\u001b[32m    493\u001b[39m \u001b[38;5;28;01mif\u001b[39;00m \u001b[38;5;129;01mnot\u001b[39;00m \u001b[38;5;28misinstance\u001b[39m(io, ExcelFile):\n\u001b[32m    494\u001b[39m     should_close = \u001b[38;5;28;01mTrue\u001b[39;00m\n\u001b[32m--> \u001b[39m\u001b[32m495\u001b[39m     io = \u001b[43mExcelFile\u001b[49m\u001b[43m(\u001b[49m\n\u001b[32m    496\u001b[39m \u001b[43m        \u001b[49m\u001b[43mio\u001b[49m\u001b[43m,\u001b[49m\n\u001b[32m    497\u001b[39m \u001b[43m        \u001b[49m\u001b[43mstorage_options\u001b[49m\u001b[43m=\u001b[49m\u001b[43mstorage_options\u001b[49m\u001b[43m,\u001b[49m\n\u001b[32m    498\u001b[39m \u001b[43m        \u001b[49m\u001b[43mengine\u001b[49m\u001b[43m=\u001b[49m\u001b[43mengine\u001b[49m\u001b[43m,\u001b[49m\n\u001b[32m    499\u001b[39m \u001b[43m        \u001b[49m\u001b[43mengine_kwargs\u001b[49m\u001b[43m=\u001b[49m\u001b[43mengine_kwargs\u001b[49m\u001b[43m,\u001b[49m\n\u001b[32m    500\u001b[39m \u001b[43m    \u001b[49m\u001b[43m)\u001b[49m\n\u001b[32m    501\u001b[39m \u001b[38;5;28;01melif\u001b[39;00m engine \u001b[38;5;129;01mand\u001b[39;00m engine != io.engine:\n\u001b[32m    502\u001b[39m     \u001b[38;5;28;01mraise\u001b[39;00m \u001b[38;5;167;01mValueError\u001b[39;00m(\n\u001b[32m    503\u001b[39m         \u001b[33m\"\u001b[39m\u001b[33mEngine should not be specified when passing \u001b[39m\u001b[33m\"\u001b[39m\n\u001b[32m    504\u001b[39m         \u001b[33m\"\u001b[39m\u001b[33man ExcelFile - ExcelFile already has the engine set\u001b[39m\u001b[33m\"\u001b[39m\n\u001b[32m    505\u001b[39m     )\n",
            "\u001b[36mFile \u001b[39m\u001b[32mc:\\Users\\ADMIN\\AppData\\Local\\Programs\\Python\\Python312\\Lib\\site-packages\\pandas\\io\\excel\\_base.py:1567\u001b[39m, in \u001b[36mExcelFile.__init__\u001b[39m\u001b[34m(self, path_or_buffer, engine, storage_options, engine_kwargs)\u001b[39m\n\u001b[32m   1564\u001b[39m \u001b[38;5;28mself\u001b[39m.engine = engine\n\u001b[32m   1565\u001b[39m \u001b[38;5;28mself\u001b[39m.storage_options = storage_options\n\u001b[32m-> \u001b[39m\u001b[32m1567\u001b[39m \u001b[38;5;28mself\u001b[39m._reader = \u001b[38;5;28;43mself\u001b[39;49m\u001b[43m.\u001b[49m\u001b[43m_engines\u001b[49m\u001b[43m[\u001b[49m\u001b[43mengine\u001b[49m\u001b[43m]\u001b[49m\u001b[43m(\u001b[49m\n\u001b[32m   1568\u001b[39m \u001b[43m    \u001b[49m\u001b[38;5;28;43mself\u001b[39;49m\u001b[43m.\u001b[49m\u001b[43m_io\u001b[49m\u001b[43m,\u001b[49m\n\u001b[32m   1569\u001b[39m \u001b[43m    \u001b[49m\u001b[43mstorage_options\u001b[49m\u001b[43m=\u001b[49m\u001b[43mstorage_options\u001b[49m\u001b[43m,\u001b[49m\n\u001b[32m   1570\u001b[39m \u001b[43m    \u001b[49m\u001b[43mengine_kwargs\u001b[49m\u001b[43m=\u001b[49m\u001b[43mengine_kwargs\u001b[49m\u001b[43m,\u001b[49m\n\u001b[32m   1571\u001b[39m \u001b[43m\u001b[49m\u001b[43m)\u001b[49m\n",
            "\u001b[36mFile \u001b[39m\u001b[32mc:\\Users\\ADMIN\\AppData\\Local\\Programs\\Python\\Python312\\Lib\\site-packages\\pandas\\io\\excel\\_openpyxl.py:552\u001b[39m, in \u001b[36mOpenpyxlReader.__init__\u001b[39m\u001b[34m(self, filepath_or_buffer, storage_options, engine_kwargs)\u001b[39m\n\u001b[32m    534\u001b[39m \u001b[38;5;129m@doc\u001b[39m(storage_options=_shared_docs[\u001b[33m\"\u001b[39m\u001b[33mstorage_options\u001b[39m\u001b[33m\"\u001b[39m])\n\u001b[32m    535\u001b[39m \u001b[38;5;28;01mdef\u001b[39;00m\u001b[38;5;250m \u001b[39m\u001b[34m__init__\u001b[39m(\n\u001b[32m    536\u001b[39m     \u001b[38;5;28mself\u001b[39m,\n\u001b[32m   (...)\u001b[39m\u001b[32m    539\u001b[39m     engine_kwargs: \u001b[38;5;28mdict\u001b[39m | \u001b[38;5;28;01mNone\u001b[39;00m = \u001b[38;5;28;01mNone\u001b[39;00m,\n\u001b[32m    540\u001b[39m ) -> \u001b[38;5;28;01mNone\u001b[39;00m:\n\u001b[32m    541\u001b[39m \u001b[38;5;250m    \u001b[39m\u001b[33;03m\"\"\"\u001b[39;00m\n\u001b[32m    542\u001b[39m \u001b[33;03m    Reader using openpyxl engine.\u001b[39;00m\n\u001b[32m    543\u001b[39m \n\u001b[32m   (...)\u001b[39m\u001b[32m    550\u001b[39m \u001b[33;03m        Arbitrary keyword arguments passed to excel engine.\u001b[39;00m\n\u001b[32m    551\u001b[39m \u001b[33;03m    \"\"\"\u001b[39;00m\n\u001b[32m--> \u001b[39m\u001b[32m552\u001b[39m     \u001b[43mimport_optional_dependency\u001b[49m\u001b[43m(\u001b[49m\u001b[33;43m\"\u001b[39;49m\u001b[33;43mopenpyxl\u001b[39;49m\u001b[33;43m\"\u001b[39;49m\u001b[43m)\u001b[49m\n\u001b[32m    553\u001b[39m     \u001b[38;5;28msuper\u001b[39m().\u001b[34m__init__\u001b[39m(\n\u001b[32m    554\u001b[39m         filepath_or_buffer,\n\u001b[32m    555\u001b[39m         storage_options=storage_options,\n\u001b[32m    556\u001b[39m         engine_kwargs=engine_kwargs,\n\u001b[32m    557\u001b[39m     )\n",
            "\u001b[36mFile \u001b[39m\u001b[32mc:\\Users\\ADMIN\\AppData\\Local\\Programs\\Python\\Python312\\Lib\\site-packages\\pandas\\compat\\_optional.py:138\u001b[39m, in \u001b[36mimport_optional_dependency\u001b[39m\u001b[34m(name, extra, errors, min_version)\u001b[39m\n\u001b[32m    136\u001b[39m \u001b[38;5;28;01mexcept\u001b[39;00m \u001b[38;5;167;01mImportError\u001b[39;00m:\n\u001b[32m    137\u001b[39m     \u001b[38;5;28;01mif\u001b[39;00m errors == \u001b[33m\"\u001b[39m\u001b[33mraise\u001b[39m\u001b[33m\"\u001b[39m:\n\u001b[32m--> \u001b[39m\u001b[32m138\u001b[39m         \u001b[38;5;28;01mraise\u001b[39;00m \u001b[38;5;167;01mImportError\u001b[39;00m(msg)\n\u001b[32m    139\u001b[39m     \u001b[38;5;28;01mreturn\u001b[39;00m \u001b[38;5;28;01mNone\u001b[39;00m\n\u001b[32m    141\u001b[39m \u001b[38;5;66;03m# Handle submodules: if we have submodule, grab parent module from sys.modules\u001b[39;00m\n",
            "\u001b[31mImportError\u001b[39m: Missing optional dependency 'openpyxl'.  Use pip or conda to install openpyxl."
          ]
        }
      ],
      "source": [
        "data = pd.read_excel('02 Churn-Dataset.xlsx')"
      ]
    },
    {
      "cell_type": "markdown",
      "metadata": {
        "id": "KUvAdEyFh9TB"
      },
      "source": [
        "# 2. Data preparation & Cleaning"
      ]
    },
    {
      "cell_type": "code",
      "execution_count": null,
      "metadata": {
        "id": "QvsALxgIf1jS"
      },
      "outputs": [],
      "source": []
    },
    {
      "cell_type": "markdown",
      "metadata": {
        "id": "3wvKrrrYiAKK"
      },
      "source": [
        "# 3. Exploratory Data Analysis"
      ]
    },
    {
      "cell_type": "code",
      "execution_count": null,
      "metadata": {
        "id": "wafHgH-EiEnz"
      },
      "outputs": [],
      "source": []
    },
    {
      "cell_type": "markdown",
      "metadata": {
        "id": "zM1hY4VxiE2j"
      },
      "source": [
        "# 4. Churn Analysis (Customer demographic analysis)"
      ]
    },
    {
      "cell_type": "code",
      "execution_count": null,
      "metadata": {
        "id": "FNwe9qnJiK7Z"
      },
      "outputs": [],
      "source": []
    },
    {
      "cell_type": "markdown",
      "metadata": {
        "id": "K-oaG3TGiLCa"
      },
      "source": [
        "# 5. Feature Engineering"
      ]
    },
    {
      "cell_type": "code",
      "execution_count": null,
      "metadata": {
        "id": "mq0o0JLkiQDC"
      },
      "outputs": [],
      "source": []
    },
    {
      "cell_type": "markdown",
      "metadata": {
        "id": "nu5jgdktiQnF"
      },
      "source": [
        "# 6. Modelling\n"
      ]
    },
    {
      "cell_type": "code",
      "execution_count": null,
      "metadata": {
        "id": "BfPJOFQbiUZ3"
      },
      "outputs": [],
      "source": []
    },
    {
      "cell_type": "markdown",
      "metadata": {
        "id": "M_WfUC0UiUmf"
      },
      "source": [
        "# 7. Model Evaluation"
      ]
    },
    {
      "cell_type": "code",
      "execution_count": null,
      "metadata": {
        "id": "eb4vYid-iXyR"
      },
      "outputs": [],
      "source": []
    },
    {
      "cell_type": "markdown",
      "metadata": {
        "id": "CxlI0xaTiYKS"
      },
      "source": [
        "# 8. Insights and Recommendations"
      ]
    },
    {
      "cell_type": "markdown",
      "metadata": {
        "id": "CBYFGv9tiaFs"
      },
      "source": []
    }
  ],
  "metadata": {
    "colab": {
      "provenance": []
    },
    "kernelspec": {
      "display_name": "Python 3",
      "name": "python3"
    },
    "language_info": {
      "codemirror_mode": {
        "name": "ipython",
        "version": 3
      },
      "file_extension": ".py",
      "mimetype": "text/x-python",
      "name": "python",
      "nbconvert_exporter": "python",
      "pygments_lexer": "ipython3",
      "version": "3.12.4"
    }
  },
  "nbformat": 4,
  "nbformat_minor": 0
}
